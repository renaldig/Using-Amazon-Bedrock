{
 "cells": [
  {
   "cell_type": "code",
   "execution_count": 1,
   "id": "fb51a387",
   "metadata": {},
   "outputs": [],
   "source": [
    "import boto3\n",
    "import json\n",
    "import os"
   ]
  },
  {
   "cell_type": "code",
   "execution_count": 2,
   "id": "abcf75de",
   "metadata": {},
   "outputs": [],
   "source": [
    "bedrock_runtime = boto3.client(\n",
    "    service_name='bedrock-runtime', \n",
    "    aws_access_key_id=os.getenv('aws_access_key_id_3'),\n",
    "    aws_secret_access_key=os.getenv('aws_secret_access_key_3'),\n",
    "    region_name='us-west-2'\n",
    ")"
   ]
  },
  {
   "cell_type": "code",
   "execution_count": 13,
   "id": "a2d78b88",
   "metadata": {},
   "outputs": [],
   "source": [
    "inference_modifier = {\n",
    "    \"max_tokens\": 4096,  # Updated max tokens\n",
    "    \"temperature\": 0.5,\n",
    "    \"top_k\": 250,\n",
    "    \"top_p\": 1,\n",
    "    \"stop_sequences\": [\"\\n\\nHuman\"],\n",
    "}"
   ]
  },
  {
   "cell_type": "code",
   "execution_count": 11,
   "id": "fa3af942",
   "metadata": {},
   "outputs": [],
   "source": [
    "def textgen_llm(prompt, model_kwargs={}):\n",
    "    payload = {\n",
    "        \"anthropic_version\": \"bedrock-2023-05-31\",\n",
    "        \"messages\": [\n",
    "            {\"role\": \"user\", \"content\": prompt}\n",
    "        ]\n",
    "    }\n",
    "    payload.update(model_kwargs)\n",
    "    \n",
    "    try:\n",
    "        response = bedrock_runtime.invoke_model(\n",
    "            modelId='anthropic.claude-3-5-sonnet-20241022-v2:0',  # Use the model ID that supports the Messages API\n",
    "            body=json.dumps(payload).encode('utf-8'),\n",
    "            contentType='application/json',\n",
    "            accept='application/json'\n",
    "        )\n",
    "    except Exception as e:\n",
    "        print(\"Error invoking the model:\", e)\n",
    "        return None\n",
    "\n",
    "    # Read and decode the response\n",
    "    result = response['body'].read().decode('utf-8')\n",
    "    \n",
    "    # Attempt to parse the result as JSON; if it fails, return the raw string.\n",
    "    try:\n",
    "        return json.loads(result)\n",
    "    except json.JSONDecodeError:\n",
    "        return result"
   ]
  },
  {
   "cell_type": "markdown",
   "id": "f04ec096",
   "metadata": {},
   "source": [
    "## Zero-Shot Prompt"
   ]
  },
  {
   "cell_type": "code",
   "execution_count": 12,
   "id": "4afd7645",
   "metadata": {},
   "outputs": [
    {
     "name": "stdout",
     "output_type": "stream",
     "text": [
      "{'id': 'msg_bdrk_01Qvzi5xXEGYsGVwtpY23E5u', 'type': 'message', 'role': 'assistant', 'model': 'claude-3-5-sonnet-20241022', 'content': [{'type': 'text', 'text': \"Here's a comprehensive marketing strategy outline for launching an eco-friendly bicycle model:\\n\\n1. Market Analysis\\n- Target audience demographics: Urban professionals, 25-45 years old\\n- Competitor analysis: Existing bike brands and alternative transport options\\n- Market trends: Growing interest in sustainability, urban mobility solutions\\n- Market size and growth potential\\n\\n2. Product Positioning\\n- Unique Value Proposition: Eco-friendly materials + innovative design + urban practicality\\n- Key differentiators: Sustainable manufacturing, smart features, urban-specific design\\n- Brand personality: Modern, environmentally conscious, tech-savvy\\n\\n3. Marketing Mix\\nPrice:\\n- Premium pricing strategy reflecting quality and innovation\\n- Special launch pricing and early-bird offers\\n- Financing options for customers\\n\\nProduct:\\n- Highlight eco-friendly materials and manufacturing\\n- Emphasize innovative features (e.g., smart connectivity, modular design)\\n- Focus on urban-specific benefits (storage, security features)\\n\\nPlace:\\n- Direct-to-consumer online sales\\n- Select urban bicycle retailers\\n- Pop-up experience stores in major cities\\n\\nPromotion:\\n- Digital marketing campaign (social media, content marketing)\\n- Influencer partnerships with sustainability advocates\\n- Urban mobility events and demonstrations\\n- PR focus on environmental impact\\n- Community building through cycling groups\\n\\n4. Launch Timeline\\nPre-launch (3 months):\\n- Teaser campaign\\n- Influencer seeding\\n- Email list building\\n- PR outreach\\n\\nLaunch phase:\\n- Official launch event\\n- Social media campaign\\n- Press releases\\n- Influencer content\\n\\nPost-launch:\\n- Customer testimonials\\n- Community engagement\\n- Performance tracking\\n- Campaign optimization\\n\\n5. Budget Allocation\\n- Digital advertising: 40%\\n- Events and experiential: 25%\\n- PR and influencer partnerships: 20%\\n- Content creation: 15%\\n\\n6. Success Metrics\\n- Sales targets\\n- Market share goals\\n- Brand awareness metrics\\n- Social media engagement\\n- Customer satisfaction scores\\n- Environmental impact measurements\\n\\n7. Partnerships & Collaborations\\n- Environmental organizations\\n- Urban planning initiatives\\n- Cycling communities\\n- Tech companies for smart features\\n- Local businesses for cross-promotion\\n\\n8. Risk Management\\n- Contingency plans for supply chain issues\\n- Crisis communication strategy\\n- Customer service protocol\\n- Quality control measures\\n\\nThis strategy emphasizes digital presence while building real-world community connections, focusing on both environmental benefits and practical urban utility.\\n\\nWould you like me to elaborate on any particular aspect of this strategy?\"}], 'stop_reason': 'stop_sequence', 'stop_sequence': '\\n\\nHuman', 'usage': {'input_tokens': 38, 'output_tokens': 556}}\n"
     ]
    }
   ],
   "source": [
    "response = textgen_llm(\"\"\"\n",
    "\n",
    "Human: Develop a marketing strategy outline for launching a new eco-friendly,\n",
    "innovative bicycle model targeted at urban commuters.\n",
    "\n",
    "Assistant:\"\"\", model_kwargs=inference_modifier)\n",
    "print(response)"
   ]
  },
  {
   "cell_type": "markdown",
   "id": "f32c826a",
   "metadata": {},
   "source": [
    "## One-Shot Prompt"
   ]
  },
  {
   "cell_type": "code",
   "execution_count": 5,
   "id": "4459a090",
   "metadata": {},
   "outputs": [
    {
     "name": "stdout",
     "output_type": "stream",
     "text": [
      "{'id': 'msg_bdrk_01JvqRW35s3VfcUwxZpuueHB', 'type': 'message', 'role': 'assistant', 'model': 'claude-3-5-sonnet-20241022', 'content': [{'type': 'text', 'text': \"For an Italian-themed dinner party of six people, here's a classic three-course menu:\\n\\nAntipasto (Starter):\\n- Bruschetta al Pomodoro (toasted bread with fresh tomatoes, garlic, and basil)\\n- OR an antipasto platter with prosciutto, mozzarella, olives, and marinated vegetables\\n\\nSecondo (Main Course):\\n- Osso Buco alla Milanese (braised veal shanks) with saffron risotto\\n- OR homemade fettuccine with classic Bolognese sauce\\n\\nDolce (Dessert):\\n- Tiramisu (traditional coffee-flavored dessert with mascarpone)\\n- OR Panna Cotta with fresh berries\\n\\nEach course represents different regions of Italy while remaining approachable for home cooking. Would you like the recipe for any of these dishes?\"}], 'stop_reason': 'end_turn', 'stop_sequence': None, 'usage': {'input_tokens': 102, 'cache_creation_input_tokens': 0, 'cache_read_input_tokens': 0, 'output_tokens': 202}}\n"
     ]
    }
   ],
   "source": [
    "response = textgen_llm(\"\"\"\n",
    "\n",
    "Human: I'm planning a dinner party for six people, and I'd like to serve an Italian-themed menu. Can you suggest a three-course meal?\n",
    "\n",
    "Example: For a French-themed dinner party, you could serve a cheese platter as a starter, coq au vin for the main course, and crème brûlée for dessert.\n",
    "\n",
    "Now, can you suggest a similar menu for the Italian theme?\n",
    "Assistant:\"\"\", model_kwargs=inference_modifier)\n",
    "\n",
    "print(response)"
   ]
  },
  {
   "cell_type": "code",
   "execution_count": null,
   "id": "0e7c0b16",
   "metadata": {},
   "outputs": [],
   "source": [
    "##Prompt Template"
   ]
  },
  {
   "cell_type": "code",
   "execution_count": 7,
   "id": "1c182e2d",
   "metadata": {},
   "outputs": [
    {
     "name": "stdout",
     "output_type": "stream",
     "text": [
      "Human: Draft a briefing for the marketing team led by Alex, focusing on the upcoming launch of our new eco-friendly bicycle designed for urban commuters. The briefing should highlight the key features of the product:\n",
      "<product_features>\n",
      "The bicycle features an innovative design with integrated smart technology for navigation and fitness tracking, a lightweight yet durable frame made from recycled materials, and a sleek, modern aesthetic appealing to city dwellers. It also includes enhanced safety features such as built-in lights and reflective surfaces for nighttime visibility.\n",
      "</product_features>\n",
      "and emphasize the importance of aligning the marketing strategy with these features.\n",
      "\n",
      "Example 1: \n",
      "Human: Draft a briefing for the marketing team led by Sarah, focusing on the upcoming launch of our new eco-friendly water bottle designed for outdoor enthusiasts. The briefing should highlight the key features of the product: \n",
      "<product_features>Reusable, insulated, lightweight</product_features> \n",
      "and emphasize the importance of aligning the marketing strategy with these features.\n",
      "\n",
      "Assistant: The product's lightweight, insulated design is a key selling point, especially for outdoor enthusiasts...\n",
      "\n",
      "Example 2:\n",
      "Human: Draft a briefing for the marketing team led by John, focusing on the launch of a new smartwatch designed for tech-savvy consumers. Highlight the features:\n",
      "<product_features>Fitness tracking, long battery life, sleek design</product_features>...\n",
      "\n",
      "Now draft a similar briefing for Alex and the eco-friendly bicycle.\n",
      "\n",
      "Assistant:\n"
     ]
    }
   ],
   "source": [
    "from langchain.prompts import PromptTemplate\n",
    "\n",
    "multi_var_prompt = PromptTemplate(\n",
    "    input_variables=[\"marketingManager\", \"productType\", \"targetAudience\", \"productFeatures\"],\n",
    "    template=\"\"\"\\\n",
    "Human: Draft a briefing for the marketing team led by {marketingManager}, focusing on the upcoming launch of our new {productType} designed for {targetAudience}. The briefing should highlight the key features of the product:\n",
    "<product_features>\n",
    "{productFeatures}\n",
    "</product_features>\n",
    "and emphasize the importance of aligning the marketing strategy with these features.\n",
    "\n",
    "Example 1: \n",
    "Human: Draft a briefing for the marketing team led by Sarah, focusing on the upcoming launch of our new eco-friendly water bottle designed for outdoor enthusiasts. The briefing should highlight the key features of the product: \n",
    "<product_features>Reusable, insulated, lightweight</product_features> \n",
    "and emphasize the importance of aligning the marketing strategy with these features.\n",
    "\n",
    "Assistant: The product's lightweight, insulated design is a key selling point, especially for outdoor enthusiasts...\n",
    "\n",
    "Example 2:\n",
    "Human: Draft a briefing for the marketing team led by John, focusing on the launch of a new smartwatch designed for tech-savvy consumers. Highlight the features:\n",
    "<product_features>Fitness tracking, long battery life, sleek design</product_features>...\n",
    "\n",
    "Now draft a similar briefing for Alex and the eco-friendly bicycle.\n",
    "\n",
    "Assistant:\"\"\"\n",
    ")\n",
    "\n",
    "prompt = multi_var_prompt.format(\n",
    "    marketingManager=\"Alex\",\n",
    "    productType=\"eco-friendly bicycle\",\n",
    "    targetAudience=\"urban commuters\",\n",
    "    productFeatures=\"\"\"The bicycle features an innovative design with integrated smart technology for navigation and fitness tracking, a lightweight yet durable frame made from recycled materials, and a sleek, modern aesthetic appealing to city dwellers. It also includes enhanced safety features such as built-in lights and reflective surfaces for nighttime visibility.\"\"\"\n",
    ")\n",
    "\n",
    "print(prompt)\n"
   ]
  },
  {
   "cell_type": "code",
   "execution_count": 8,
   "id": "792d65c6",
   "metadata": {},
   "outputs": [
    {
     "name": "stdout",
     "output_type": "stream",
     "text": [
      "{'id': 'msg_bdrk_01MYKPUUAbkeLbiswHKhtnaZ', 'type': 'message', 'role': 'assistant', 'model': 'claude-3-5-sonnet-20241022', 'content': [{'type': 'text', 'text': \"MARKETING TEAM BRIEFING\\nAttention: Alex and Team\\nRe: Launch Strategy for Urban Eco-Commuter Bicycle\\n\\nDear Alex and team,\\n\\nI'm reaching out to brief you on our upcoming launch of the new eco-friendly urban commuter bicycle. This product represents a significant opportunity to capture the growing market of environmentally conscious urban commuters.\\n\\nKey Product Features to Emphasize:\\n\\n1. Smart Technology Integration\\n- Built-in navigation system\\n- Fitness tracking capabilities\\n- Perfect for tech-savvy urban professionals\\n\\n2. Sustainable Construction\\n- Frame constructed from recycled materials\\n- Eco-friendly manufacturing process\\n- Appeals to environmentally conscious consumers\\n\\n3. Safety & Design\\n- Integrated lighting system\\n- Reflective surfaces for night visibility\\n- Modern, sleek aesthetic\\n\\nMarketing Strategy Recommendations:\\n\\n1. Target Audience Focus\\n- Urban professionals\\n- Eco-conscious commuters\\n- Tech-savvy cyclists\\n\\n2. Key Message Pillars\\n- Sustainability meets innovation\\n- Smart urban mobility\\n- Safety without compromising style\\n\\n3. Suggested Marketing Channels\\n- Urban lifestyle publications\\n- Environmental blogs and forums\\n- Tech review platforms\"}], 'stop_reason': 'max_tokens', 'stop_sequence': None, 'usage': {'input_tokens': 340, 'output_tokens': 256}}\n"
     ]
    }
   ],
   "source": [
    "response = textgen_llm(prompt)\n",
    "\n",
    "print(response)"
   ]
  },
  {
   "cell_type": "code",
   "execution_count": null,
   "id": "8a805107",
   "metadata": {},
   "outputs": [],
   "source": []
  }
 ],
 "metadata": {
  "kernelspec": {
   "display_name": "Python 3 (ipykernel)",
   "language": "python",
   "name": "python3"
  },
  "language_info": {
   "codemirror_mode": {
    "name": "ipython",
    "version": 3
   },
   "file_extension": ".py",
   "mimetype": "text/x-python",
   "name": "python",
   "nbconvert_exporter": "python",
   "pygments_lexer": "ipython3",
   "version": "3.9.12"
  }
 },
 "nbformat": 4,
 "nbformat_minor": 5
}
